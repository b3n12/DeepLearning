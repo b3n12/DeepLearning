{
 "cells": [
  {
   "cell_type": "markdown",
   "metadata": {},
   "source": [
    "Data Source\n",
    "-----------\n",
    "Forex EURUSD from Jan 2011 to Dec 2018 (8 years) downloaded from QuanDL"
   ]
  },
  {
   "cell_type": "code",
   "execution_count": 1,
   "metadata": {},
   "outputs": [
    {
     "name": "stdout",
     "output_type": "stream",
     "text": [
      "         Date   Time     Open     High      Low    Close  Volume\n",
      "0  2011.01.03  00:00  1.33560  1.33947  1.32500  1.33551  164193\n",
      "1  2011.01.04  00:00  1.33566  1.34298  1.32923  1.33179  215600\n",
      "2  2011.01.05  00:00  1.33181  1.33248  1.31262  1.31556  204024\n",
      "3  2011.01.06  00:00  1.31556  1.31698  1.29723  1.29787  185391\n",
      "4  2011.01.07  00:00  1.29787  1.30209  1.29045  1.29060  180709\n",
      "(2501, 7)\n"
     ]
    }
   ],
   "source": [
    "# !pip install mkl\n",
    "# !pip install --upgrade keras\n",
    "import pandas as pd\n",
    "\n",
    "# Data source - fetch dataframe for Forex EURUSD from Jan 2011 to Dec 2018 (8 years)\n",
    "df = pd.read_csv('EURUSD_DAY_2011_2018.csv')\n",
    "df.columns = ('Date', 'Time', 'Open', 'High', 'Low', 'Close', 'Volume')\n",
    "print (df.head())\n",
    "print (df.shape)"
   ]
  },
  {
   "cell_type": "code",
   "execution_count": 2,
   "metadata": {},
   "outputs": [
    {
     "name": "stdout",
     "output_type": "stream",
     "text": [
      "         Date    Close\n",
      "0  2011.01.03  1.33551\n",
      "1  2011.01.04  1.33179\n",
      "2  2011.01.05  1.31556\n",
      "3  2011.01.06  1.29787\n",
      "4  2011.01.07  1.29060\n",
      "(2501, 2)\n"
     ]
    }
   ],
   "source": [
    "# Drop unused columns/features/dimensions\n",
    "df.drop(columns=['Time', 'Open', 'High', 'Low', 'Volume'], inplace=True)\n",
    "print(df.head())\n",
    "print(df.shape)"
   ]
  },
  {
   "cell_type": "code",
   "execution_count": 4,
   "metadata": {},
   "outputs": [
    {
     "data": {
      "image/png": "[encoded data removed]",
      "text/plain": [
       "<Figure size 432x288 with 1 Axes>"
      ]
     },
     "metadata": {
      "needs_background": "light"
     },
     "output_type": "display_data"
    }
   ],
   "source": [
    "import matplotlib.pyplot as plt\n",
    "df_plot = df.iloc[:,1:2].values.astype(float)\n",
    "# Visualising the Data\n",
    "plt.plot(df_plot, color = 'red', label = 'Actual EURO vs USD Prices')\n",
    "plt.title('Forex EURO vs USD Prices Historical Data')\n",
    "plt.xlabel('Time (Days)')\n",
    "plt.ylabel('EURO vs USD Prices')\n",
    "plt.legend()\n",
    "plt.show()"
   ]
  },
  {
   "cell_type": "markdown",
   "metadata": {},
   "source": [
    "Batch-size: which batch-size to choose?\n",
    "------------------------------------\n",
    "\n",
    "**Very important decision!**\n",
    "\n",
    "Imagine, you must learn to recognize a bird...\n",
    "You are presented images of different birds.\n",
    "\n",
    "What would you prefer:\n",
    "1. To see the one image at a time, make your notes about special bird quilities (set your **weights**) and then see another bird and so on\n",
    "2. **OR** may be you would better learn if you see - let's say 5 - bird images at ones. May be then you can faster notice the bird's intrinsic properties?\n",
    "\n",
    "I'd say - the second method is more efficient for humans. We need more examples of an entitiy, that we have to distinguish. \n",
    "\n",
    "**So the machines! Therefore we select a batch size of 64.\n",
    "Later in programming assigment we will see how the batch size impacts the prediction accuracy.**"
   ]
  },
  {
   "cell_type": "code",
   "execution_count": 5,
   "metadata": {},
   "outputs": [
    {
     "name": "stderr",
     "output_type": "stream",
     "text": [
      "Using TensorFlow backend.\n",
      "c:\\program files\\python37\\lib\\site-packages\\tensorflow\\python\\framework\\dtypes.py:516: FutureWarning: Passing (type, 1) or '1type' as a synonym of type is deprecated; in a future version of numpy, it will be understood as (type, (1,)) / '(1,)type'.\n",
      "  _np_qint8 = np.dtype([(\"qint8\", np.int8, 1)])\n",
      "c:\\program files\\python37\\lib\\site-packages\\tensorflow\\python\\framework\\dtypes.py:517: FutureWarning: Passing (type, 1) or '1type' as a synonym of type is deprecated; in a future version of numpy, it will be understood as (type, (1,)) / '(1,)type'.\n",
      "  _np_quint8 = np.dtype([(\"quint8\", np.uint8, 1)])\n",
      "c:\\program files\\python37\\lib\\site-packages\\tensorflow\\python\\framework\\dtypes.py:518: FutureWarning: Passing (type, 1) or '1type' as a synonym of type is deprecated; in a future version of numpy, it will be understood as (type, (1,)) / '(1,)type'.\n",
      "  _np_qint16 = np.dtype([(\"qint16\", np.int16, 1)])\n",
      "c:\\program files\\python37\\lib\\site-packages\\tensorflow\\python\\framework\\dtypes.py:519: FutureWarning: Passing (type, 1) or '1type' as a synonym of type is deprecated; in a future version of numpy, it will be understood as (type, (1,)) / '(1,)type'.\n",
      "  _np_quint16 = np.dtype([(\"quint16\", np.uint16, 1)])\n",
      "c:\\program files\\python37\\lib\\site-packages\\tensorflow\\python\\framework\\dtypes.py:520: FutureWarning: Passing (type, 1) or '1type' as a synonym of type is deprecated; in a future version of numpy, it will be understood as (type, (1,)) / '(1,)type'.\n",
      "  _np_qint32 = np.dtype([(\"qint32\", np.int32, 1)])\n",
      "c:\\program files\\python37\\lib\\site-packages\\tensorflow\\python\\framework\\dtypes.py:525: FutureWarning: Passing (type, 1) or '1type' as a synonym of type is deprecated; in a future version of numpy, it will be understood as (type, (1,)) / '(1,)type'.\n",
      "  np_resource = np.dtype([(\"resource\", np.ubyte, 1)])\n",
      "c:\\program files\\python37\\lib\\site-packages\\tensorboard\\compat\\tensorflow_stub\\dtypes.py:541: FutureWarning: Passing (type, 1) or '1type' as a synonym of type is deprecated; in a future version of numpy, it will be understood as (type, (1,)) / '(1,)type'.\n",
      "  _np_qint8 = np.dtype([(\"qint8\", np.int8, 1)])\n",
      "c:\\program files\\python37\\lib\\site-packages\\tensorboard\\compat\\tensorflow_stub\\dtypes.py:542: FutureWarning: Passing (type, 1) or '1type' as a synonym of type is deprecated; in a future version of numpy, it will be understood as (type, (1,)) / '(1,)type'.\n",
      "  _np_quint8 = np.dtype([(\"quint8\", np.uint8, 1)])\n",
      "c:\\program files\\python37\\lib\\site-packages\\tensorboard\\compat\\tensorflow_stub\\dtypes.py:543: FutureWarning: Passing (type, 1) or '1type' as a synonym of type is deprecated; in a future version of numpy, it will be understood as (type, (1,)) / '(1,)type'.\n",
      "  _np_qint16 = np.dtype([(\"qint16\", np.int16, 1)])\n",
      "c:\\program files\\python37\\lib\\site-packages\\tensorboard\\compat\\tensorflow_stub\\dtypes.py:544: FutureWarning: Passing (type, 1) or '1type' as a synonym of type is deprecated; in a future version of numpy, it will be understood as (type, (1,)) / '(1,)type'.\n",
      "  _np_quint16 = np.dtype([(\"quint16\", np.uint16, 1)])\n",
      "c:\\program files\\python37\\lib\\site-packages\\tensorboard\\compat\\tensorflow_stub\\dtypes.py:545: FutureWarning: Passing (type, 1) or '1type' as a synonym of type is deprecated; in a future version of numpy, it will be understood as (type, (1,)) / '(1,)type'.\n",
      "  _np_qint32 = np.dtype([(\"qint32\", np.int32, 1)])\n",
      "c:\\program files\\python37\\lib\\site-packages\\tensorboard\\compat\\tensorflow_stub\\dtypes.py:550: FutureWarning: Passing (type, 1) or '1type' as a synonym of type is deprecated; in a future version of numpy, it will be understood as (type, (1,)) / '(1,)type'.\n",
      "  np_resource = np.dtype([(\"resource\", np.ubyte, 1)])\n"
     ]
    }
   ],
   "source": [
    "#import packages\n",
    "import numpy as np\n",
    "import pandas as pd\n",
    "from keras.preprocessing import sequence\n",
    "from keras.models import load_model"
   ]
  },
  {
   "cell_type": "code",
   "execution_count": 6,
   "metadata": {},
   "outputs": [
    {
     "name": "stdout",
     "output_type": "stream",
     "text": [
      "Batch size:  64\n",
      "Epochs:  120\n",
      "Timesteps (sliding windows):  30\n"
     ]
    }
   ],
   "source": [
    "# defining the batch size and number of epochs\n",
    "batch_size = 64\n",
    "epochs = 120\n",
    "# 30 steps to the left or we are looking at sliding windows of 10 days in the past to predict\n",
    "timesteps = 30 \n",
    "print(\"Batch size: \", batch_size)\n",
    "print(\"Epochs: \", epochs)\n",
    "print(\"Timesteps (sliding windows): \", timesteps)"
   ]
  },
  {
   "cell_type": "markdown",
   "metadata": {},
   "source": [
    "Batch-size and trainings-set size\n",
    "-------------------------------\n",
    "\n",
    "With **stateful LSTMs** the trainings-set size must be divisible without remainder by the batch-size (modulo = 0)"
   ]
  },
  {
   "cell_type": "code",
   "execution_count": 7,
   "metadata": {},
   "outputs": [],
   "source": [
    "def get_train_length(dataset, batch_size, test_percent):\n",
    "    # substract test_percent to be excluded from training, reserved for testset\n",
    "    length = len(dataset)\n",
    "    length *= 1 - test_percent\n",
    "    train_length_values = []\n",
    "    for x in range(int(length) - 100,int(length)): \n",
    "        modulo=x%batch_size\n",
    "        if (modulo == 0):\n",
    "            train_length_values.append(x)\n",
    "            print(x)\n",
    "    return (max(train_length_values))"
   ]
  },
  {
   "cell_type": "code",
   "execution_count": 8,
   "metadata": {},
   "outputs": [
    {
     "name": "stdout",
     "output_type": "stream",
     "text": [
      "Dataframe Length:  2501\n",
      "2176\n",
      "2240\n",
      "Train length related to batch size:  2240\n"
     ]
    }
   ],
   "source": [
    "print(\"Dataframe Length: \", len(df))\n",
    "length = get_train_length(df, batch_size, 0.1)\n",
    "print(\"Train length related to batch size: \", length)"
   ]
  },
  {
   "cell_type": "code",
   "execution_count": 9,
   "metadata": {},
   "outputs": [
    {
     "name": "stdout",
     "output_type": "stream",
     "text": [
      "Training Set:  [[1.33551]\n",
      " [1.33179]\n",
      " [1.31556]\n",
      " ...\n",
      " [1.18671]\n",
      " [1.18467]\n",
      " [1.19137]]\n",
      "Training Shape:  (2300, 1)\n"
     ]
    }
   ],
   "source": [
    "# Pre-processing - Construct our Input and Output Data Construction for LSTM\n",
    "# First, increase the upper boundary of traning set size by mulipling by two\n",
    "# Adding timesteps * 2\n",
    "upper_train = length + timesteps*2\n",
    "df_data_1_train = df[0:upper_train]\n",
    "training_set = df_data_1_train.iloc[:,1:2].values\n",
    "print('Training Set: ', training_set)\n",
    "print('Training Shape: ', training_set.shape)"
   ]
  },
  {
   "cell_type": "code",
   "execution_count": 10,
   "metadata": {},
   "outputs": [
    {
     "data": {
      "text/plain": [
       "(2300, 1)"
      ]
     },
     "execution_count": 10,
     "metadata": {},
     "output_type": "execute_result"
    }
   ],
   "source": [
    "# Feature Scaling\n",
    "# scale between 0 and 1. the weights are esier to find.\n",
    "from sklearn.preprocessing import MinMaxScaler\n",
    "sc = MinMaxScaler(feature_range = (0, 1))\n",
    "training_set_scaled = sc.fit_transform(np.float64(training_set))\n",
    "training_set_scaled.shape"
   ]
  },
  {
   "cell_type": "code",
   "execution_count": 11,
   "metadata": {},
   "outputs": [
    {
     "name": "stdout",
     "output_type": "stream",
     "text": [
      "Length + timesteps:  2270\n",
      "Length of X_train 2240\n",
      "Lenght of y_train 2240\n",
      "X_train 3D Matrix:  [array([0.66623966, 0.65787936, 0.62140417, 0.58164779, 0.56530924,\n",
      "       0.56261237, 0.5782767 , 0.58209727, 0.61477436, 0.66522834,\n",
      "       0.6733639 , 0.67147609, 0.64956401, 0.6712963 , 0.68790453,\n",
      "       0.69093851, 0.725863  , 0.72548094, 0.73078479, 0.74029126,\n",
      "       0.74593222, 0.74860662, 0.72350324, 0.71487325, 0.74678623,\n",
      "       0.77256383, 0.76975458, 0.72649227, 0.71673858, 0.71514293]), array([0.65787936, 0.62140417, 0.58164779, 0.56530924, 0.56261237,\n",
      "       0.5782767 , 0.58209727, 0.61477436, 0.66522834, 0.6733639 ,\n",
      "       0.67147609, 0.64956401, 0.6712963 , 0.68790453, 0.69093851,\n",
      "       0.725863  , 0.72548094, 0.73078479, 0.74029126, 0.74593222,\n",
      "       0.74860662, 0.72350324, 0.71487325, 0.74678623, 0.77256383,\n",
      "       0.76975458, 0.72649227, 0.71673858, 0.71514293, 0.71952535])]\n",
      "X_train array shape:  (2240, 30)\n",
      "y_train 3D Matrix:  [array([0.71952535, 0.72687433, 0.74799982, 0.72190759, 0.71013125,\n",
      "       0.70141136, 0.69403991, 0.69822006, 0.71530025, 0.72629   ,\n",
      "       0.74197681, 0.7463817 , 0.73945973, 0.73739213, 0.75721413,\n",
      "       0.77054117, 0.75564096, 0.75119112, 0.77076591, 0.7589671 ,\n",
      "       0.78081176, 0.80119561, 0.80809511, 0.80890417, 0.80263394,\n",
      "       0.78739662, 0.78941927, 0.7662936 , 0.78923948, 0.79665588]), array([0.72687433, 0.74799982, 0.72190759, 0.71013125, 0.70141136,\n",
      "       0.69403991, 0.69822006, 0.71530025, 0.72629   , 0.74197681,\n",
      "       0.7463817 , 0.73945973, 0.73739213, 0.75721413, 0.77054117,\n",
      "       0.75564096, 0.75119112, 0.77076591, 0.7589671 , 0.78081176,\n",
      "       0.80119561, 0.80809511, 0.80890417, 0.80263394, 0.78739662,\n",
      "       0.78941927, 0.7662936 , 0.78923948, 0.79665588, 0.80894912])]\n",
      "y_train array shape:  (2240, 30)\n"
     ]
    }
   ],
   "source": [
    "# Input data - X_train (timesteps = 10)\n",
    "X_train = []\n",
    "# Ouput data - y_train - predicted future values\n",
    "y_train = []\n",
    "\n",
    "# Creating a data structure with n timesteps\n",
    "print(\"Length + timesteps: \", length + timesteps)\n",
    "for i in range(timesteps, length + timesteps): \n",
    "    X_train.append(training_set_scaled[i-timesteps:i,0])\n",
    "    y_train.append(training_set_scaled[i:i+timesteps,0])\n",
    "\n",
    "print(\"Length of X_train\", len(X_train))\n",
    "print(\"Lenght of y_train\", len(y_train))\n",
    "\n",
    "# create X_train matrix\n",
    "# 30 items per array (timestep) \n",
    "print(\"X_train 3D Matrix: \", X_train[0:2])\n",
    "print(\"X_train array shape: \", np.array(X_train).shape)\n",
    "\n",
    "#create Y_train matrix\n",
    "#30 items per array (timestep) \n",
    "print(\"y_train 3D Matrix: \", y_train[0:2])\n",
    "print(\"y_train array shape: \", np.array(y_train).shape)"
   ]
  },
  {
   "cell_type": "code",
   "execution_count": 12,
   "metadata": {},
   "outputs": [
    {
     "name": "stdout",
     "output_type": "stream",
     "text": [
      "X_train shape:  (2240, 30, 1)\n",
      "y_train shape:  (2240, 30, 1)\n"
     ]
    }
   ],
   "source": [
    "# Reshaping\n",
    "X_train, y_train = np.array(X_train), np.array(y_train)\n",
    "X_train = np.reshape(X_train, (X_train.shape[0], X_train.shape[1], 1))\n",
    "y_train = np.reshape(y_train, (y_train.shape[0], y_train.shape[1], 1))\n",
    "print(\"X_train shape: \", X_train.shape)\n",
    "print(\"y_train shape: \", y_train.shape)\n"
   ]
  },
  {
   "cell_type": "code",
   "execution_count": 13,
   "metadata": {},
   "outputs": [],
   "source": [
    "########## Building the LSTM\n",
    "# Importing the Keras libraries and packages\n",
    "\n",
    "from keras.layers import Dense\n",
    "from keras.layers import Input, LSTM\n",
    "from keras.models import Model\n",
    "import h5py"
   ]
  },
  {
   "cell_type": "code",
   "execution_count": 14,
   "metadata": {},
   "outputs": [
    {
     "name": "stderr",
     "output_type": "stream",
     "text": [
      "WARNING: Logging before flag parsing goes to stderr.\n",
      "W0828 17:24:46.150709  2112 deprecation_wrapper.py:119] From c:\\program files\\python37\\lib\\site-packages\\keras\\backend\\tensorflow_backend.py:66: The name tf.get_default_graph is deprecated. Please use tf.compat.v1.get_default_graph instead.\n",
      "\n",
      "W0828 17:24:46.174644  2112 deprecation_wrapper.py:119] From c:\\program files\\python37\\lib\\site-packages\\keras\\backend\\tensorflow_backend.py:541: The name tf.placeholder is deprecated. Please use tf.compat.v1.placeholder instead.\n",
      "\n",
      "W0828 17:24:46.181625  2112 deprecation_wrapper.py:119] From c:\\program files\\python37\\lib\\site-packages\\keras\\backend\\tensorflow_backend.py:4432: The name tf.random_uniform is deprecated. Please use tf.random.uniform instead.\n",
      "\n",
      "W0828 17:24:46.484409  2112 deprecation_wrapper.py:119] From c:\\program files\\python37\\lib\\site-packages\\keras\\optimizers.py:793: The name tf.train.Optimizer is deprecated. Please use tf.compat.v1.train.Optimizer instead.\n",
      "\n"
     ]
    },
    {
     "name": "stdout",
     "output_type": "stream",
     "text": [
      "Model: \"model_1\"\n",
      "_________________________________________________________________\n",
      "Layer (type)                 Output Shape              Param #   \n",
      "=================================================================\n",
      "input_1 (InputLayer)         (64, 30, 1)               0         \n",
      "_________________________________________________________________\n",
      "lstm_1 (LSTM)                (64, 30, 10)              480       \n",
      "_________________________________________________________________\n",
      "lstm_2 (LSTM)                (64, 30, 10)              840       \n",
      "_________________________________________________________________\n",
      "dense_1 (Dense)              (64, 30, 1)               11        \n",
      "=================================================================\n",
      "Total params: 1,331\n",
      "Trainable params: 1,331\n",
      "Non-trainable params: 0\n",
      "_________________________________________________________________\n"
     ]
    }
   ],
   "source": [
    "########## Anatomy of a LSTM Node\n",
    "# Initialising the LSTM Model with MAE Loss-Function\n",
    "# Keras has 2 API: Sequential API and Functional API\n",
    "# Here, we use Functional API\n",
    "\n",
    "# Input layer:\n",
    "inputs_1_mae = Input(batch_shape=(batch_size,timesteps,1))\n",
    "\n",
    "# Each layer is the input of the next layer\n",
    "# mae -> mean absolute error loss function\n",
    "# We use 10 nodes\n",
    "lstm_1_mae = LSTM(10, stateful=True, return_sequences=True)(inputs_1_mae)\n",
    "lstm_2_mae = LSTM(10, stateful=True, return_sequences=True)(lstm_1_mae)\n",
    "\n",
    "# Output layer\n",
    "output_1_mae = Dense(units = 1)(lstm_2_mae)\n",
    "\n",
    "regressor_mae = Model(inputs=inputs_1_mae, outputs = output_1_mae)\n",
    "\n",
    "# Optimizer - adam is fast starting off and then gets slower and more precise\n",
    "regressor_mae.compile(optimizer='adam', loss = 'mae')\n",
    "regressor_mae.summary()"
   ]
  },
  {
   "cell_type": "markdown",
   "metadata": {},
   "source": [
    "How LSTM Param Number is computed?\n",
    "--------------------------------\n",
    "\n",
    "1. To decide how to handle the memory each LSTM Cell has <bold>3 Gates</bold>: \n",
    "    - input (what to let in), \n",
    "    - forget (what to forget) and \n",
    "    - output (what to write to the output)\n",
    "2. LSTM **Cell State** is its **memory**\n",
    "3. LSTM Hidden State is equivalent to the Cell output:\n",
    "    - lstm_hidden_state_size (number of neurons = memory cells) = lstm_outputs_size\n",
    "4. Parameters:\n",
    "    - weights for the inputs (lstm_inputs_size)\n",
    "    - weights for the outputs (lstm_outputs_size)\n",
    "    - bias variable\n",
    "5.  Result from previous point - for all 3 Gates and for Cell State ( = 4)  \n",
    "   \n",
    "    \\begin{equation}\n",
    "          \\textbf{PARAMETERS} = \\textbf4 \\times \\textbf{ LSTM outputs size} \\times (\\textbf{weights LSTM inputs size} + \\textbf{weights LSTM outputs size} + 1 \\textbf{ bias variable})\n",
    "    \\end{equation}\n",
    "    \n",
    "\n"
   ]
  },
  {
   "cell_type": "code",
   "execution_count": 15,
   "metadata": {},
   "outputs": [],
   "source": [
    "######### Number of Parameters\n",
    "# 1. Decide how to handle the memory for each of 3 LSTM Cell Gates (input, forget, output)\n",
    "# 2. LSTM Cell State is its memory\n",
    "# 3. LSTM Hidden State is equivalent to the Cell ouput\n",
    "# 4. Parameters:\n",
    "#       - Weights for the inputs (lstm_inputs_size)\n",
    "#       - Weights for the outputs (lstm_outputs_size)\n",
    "#       - bias variable\n",
    "# 5. Result from previous point for all 3 Gates and for Cell State (= 4)\n",
    "#\n",
    "#       PARAMETERS = 4 X LSTM outputs size x (weights LSTM input size + weights LSTM outputs size + 1 bias variable)\n",
    "#\n",
    "# 1st LSTM Layer\n",
    "#   parameters = 4 * 10 * (1 + 10 + 1)\n",
    "# print(parameters)\n",
    "# \n",
    "# 2nd LSTM Layer\n",
    "#   parameters = 4 * 10 * (10 + 10 + 1)\n",
    "#   print(parameters)"
   ]
  },
  {
   "cell_type": "code",
   "execution_count": 16,
   "metadata": {},
   "outputs": [
    {
     "name": "stderr",
     "output_type": "stream",
     "text": [
      "W0828 17:24:52.350112  2112 deprecation.py:323] From c:\\program files\\python37\\lib\\site-packages\\tensorflow\\python\\ops\\math_grad.py:1250: add_dispatch_support.<locals>.wrapper (from tensorflow.python.ops.array_ops) is deprecated and will be removed in a future version.\n",
      "Instructions for updating:\n",
      "Use tf.where in 2.0, which has the same broadcast rule as np.where\n"
     ]
    },
    {
     "name": "stdout",
     "output_type": "stream",
     "text": [
      "Epoch: 0\n"
     ]
    },
    {
     "name": "stderr",
     "output_type": "stream",
     "text": [
      "W0828 17:24:52.748048  2112 deprecation_wrapper.py:119] From c:\\program files\\python37\\lib\\site-packages\\keras\\backend\\tensorflow_backend.py:1033: The name tf.assign_add is deprecated. Please use tf.compat.v1.assign_add instead.\n",
      "\n",
      "W0828 17:24:52.809883  2112 deprecation_wrapper.py:119] From c:\\program files\\python37\\lib\\site-packages\\keras\\backend\\tensorflow_backend.py:1020: The name tf.assign is deprecated. Please use tf.compat.v1.assign instead.\n",
      "\n"
     ]
    },
    {
     "name": "stdout",
     "output_type": "stream",
     "text": [
      "Epoch 1/1\n",
      "2240/2240 [==============================] - 1s 401us/step - loss: 0.4492\n",
      "Epoch: 1\n",
      "Epoch 1/1\n",
      "2240/2240 [==============================] - 0s 144us/step - loss: 0.2654\n",
      "Epoch: 2\n",
      "Epoch 1/1\n",
      "2240/2240 [==============================] - 0s 136us/step - loss: 0.1429\n",
      "Epoch: 3\n",
      "Epoch 1/1\n",
      "2240/2240 [==============================] - 0s 141us/step - loss: 0.0972\n",
      "Epoch: 4\n",
      "Epoch 1/1\n",
      "2240/2240 [==============================] - 0s 142us/step - loss: 0.0956\n",
      "Epoch: 5\n",
      "Epoch 1/1\n",
      "2240/2240 [==============================] - 0s 141us/step - loss: 0.0957\n",
      "Epoch: 6\n",
      "Epoch 1/1\n",
      "2240/2240 [==============================] - 0s 141us/step - loss: 0.0847\n",
      "Epoch: 7\n",
      "Epoch 1/1\n",
      "2240/2240 [==============================] - 0s 144us/step - loss: 0.0818\n",
      "Epoch: 8\n",
      "Epoch 1/1\n",
      "2240/2240 [==============================] - 0s 138us/step - loss: 0.0811\n",
      "Epoch: 9\n",
      "Epoch 1/1\n",
      "2240/2240 [==============================] - 0s 137us/step - loss: 0.0799\n",
      "Epoch: 10\n",
      "Epoch 1/1\n",
      "2240/2240 [==============================] - 0s 142us/step - loss: 0.0787\n",
      "Epoch: 11\n",
      "Epoch 1/1\n",
      "2240/2240 [==============================] - 0s 142us/step - loss: 0.0778\n",
      "Epoch: 12\n",
      "Epoch 1/1\n",
      "2240/2240 [==============================] - 0s 137us/step - loss: 0.0773\n",
      "Epoch: 13\n",
      "Epoch 1/1\n",
      "2240/2240 [==============================] - 0s 139us/step - loss: 0.0768\n",
      "Epoch: 14\n",
      "Epoch 1/1\n",
      "2240/2240 [==============================] - 0s 138us/step - loss: 0.0759\n",
      "Epoch: 15\n",
      "Epoch 1/1\n",
      "2240/2240 [==============================] - 0s 137us/step - loss: 0.0755\n",
      "Epoch: 16\n",
      "Epoch 1/1\n",
      "2240/2240 [==============================] - 0s 139us/step - loss: 0.0756\n",
      "Epoch: 17\n",
      "Epoch 1/1\n",
      "2240/2240 [==============================] - 0s 138us/step - loss: 0.0751\n",
      "Epoch: 18\n",
      "Epoch 1/1\n",
      "2240/2240 [==============================] - 0s 139us/step - loss: 0.0746\n",
      "Epoch: 19\n",
      "Epoch 1/1\n",
      "2240/2240 [==============================] - 0s 138us/step - loss: 0.0745\n",
      "Epoch: 20\n",
      "Epoch 1/1\n",
      "2240/2240 [==============================] - 0s 139us/step - loss: 0.0742\n",
      "Epoch: 21\n",
      "Epoch 1/1\n",
      "2240/2240 [==============================] - 0s 139us/step - loss: 0.0738\n",
      "Epoch: 22\n",
      "Epoch 1/1\n",
      "2240/2240 [==============================] - 0s 140us/step - loss: 0.0736\n",
      "Epoch: 23\n",
      "Epoch 1/1\n",
      "2240/2240 [==============================] - 0s 141us/step - loss: 0.0733\n",
      "Epoch: 24\n",
      "Epoch 1/1\n",
      "2240/2240 [==============================] - 0s 142us/step - loss: 0.0731\n",
      "Epoch: 25\n",
      "Epoch 1/1\n",
      "2240/2240 [==============================] - 0s 138us/step - loss: 0.0728\n",
      "Epoch: 26\n",
      "Epoch 1/1\n",
      "2240/2240 [==============================] - 0s 141us/step - loss: 0.0724\n",
      "Epoch: 27\n",
      "Epoch 1/1\n",
      "2240/2240 [==============================] - 0s 141us/step - loss: 0.0723\n",
      "Epoch: 28\n",
      "Epoch 1/1\n",
      "2240/2240 [==============================] - 0s 138us/step - loss: 0.0721\n",
      "Epoch: 29\n",
      "Epoch 1/1\n",
      "2240/2240 [==============================] - 0s 138us/step - loss: 0.0719\n",
      "Epoch: 30\n",
      "Epoch 1/1\n",
      "2240/2240 [==============================] - 0s 141us/step - loss: 0.0717\n",
      "Epoch: 31\n",
      "Epoch 1/1\n",
      "2240/2240 [==============================] - 0s 136us/step - loss: 0.0716\n",
      "Epoch: 32\n",
      "Epoch 1/1\n",
      "2240/2240 [==============================] - 0s 145us/step - loss: 0.0714\n",
      "Epoch: 33\n",
      "Epoch 1/1\n",
      "2240/2240 [==============================] - 0s 145us/step - loss: 0.0713\n",
      "Epoch: 34\n",
      "Epoch 1/1\n",
      "2240/2240 [==============================] - 0s 144us/step - loss: 0.0712\n",
      "Epoch: 35\n",
      "Epoch 1/1\n",
      "2240/2240 [==============================] - 0s 147us/step - loss: 0.0710\n",
      "Epoch: 36\n",
      "Epoch 1/1\n",
      "2240/2240 [==============================] - 0s 139us/step - loss: 0.0709\n",
      "Epoch: 37\n",
      "Epoch 1/1\n",
      "2240/2240 [==============================] - 0s 141us/step - loss: 0.0707\n",
      "Epoch: 38\n",
      "Epoch 1/1\n",
      "2240/2240 [==============================] - 0s 138us/step - loss: 0.0706\n",
      "Epoch: 39\n",
      "Epoch 1/1\n",
      "2240/2240 [==============================] - 0s 139us/step - loss: 0.0704\n",
      "Epoch: 40\n",
      "Epoch 1/1\n",
      "2240/2240 [==============================] - 0s 138us/step - loss: 0.0702\n",
      "Epoch: 41\n",
      "Epoch 1/1\n",
      "2240/2240 [==============================] - 0s 137us/step - loss: 0.0701\n",
      "Epoch: 42\n",
      "Epoch 1/1\n",
      "2240/2240 [==============================] - 0s 138us/step - loss: 0.0699\n",
      "Epoch: 43\n",
      "Epoch 1/1\n",
      "2240/2240 [==============================] - 0s 140us/step - loss: 0.0698\n",
      "Epoch: 44\n",
      "Epoch 1/1\n",
      "2240/2240 [==============================] - 0s 140us/step - loss: 0.0697\n",
      "Epoch: 45\n",
      "Epoch 1/1\n",
      "2240/2240 [==============================] - 0s 144us/step - loss: 0.0696\n",
      "Epoch: 46\n",
      "Epoch 1/1\n",
      "2240/2240 [==============================] - 0s 140us/step - loss: 0.0695\n",
      "Epoch: 47\n",
      "Epoch 1/1\n",
      "2240/2240 [==============================] - 0s 144us/step - loss: 0.0694\n",
      "Epoch: 48\n",
      "Epoch 1/1\n",
      "2240/2240 [==============================] - 0s 142us/step - loss: 0.0693\n",
      "Epoch: 49\n",
      "Epoch 1/1\n",
      "2240/2240 [==============================] - 0s 144us/step - loss: 0.0691\n",
      "Epoch: 50\n",
      "Epoch 1/1\n",
      "2240/2240 [==============================] - 0s 143us/step - loss: 0.0690\n",
      "Epoch: 51\n",
      "Epoch 1/1\n",
      "2240/2240 [==============================] - 0s 142us/step - loss: 0.0689\n",
      "Epoch: 52\n",
      "Epoch 1/1\n",
      "2240/2240 [==============================] - 0s 143us/step - loss: 0.0688\n",
      "Epoch: 53\n",
      "Epoch 1/1\n",
      "2240/2240 [==============================] - 0s 144us/step - loss: 0.0687\n",
      "Epoch: 54\n",
      "Epoch 1/1\n",
      "2240/2240 [==============================] - 0s 144us/step - loss: 0.0686\n",
      "Epoch: 55\n",
      "Epoch 1/1\n",
      "2240/2240 [==============================] - 0s 144us/step - loss: 0.0685\n",
      "Epoch: 56\n",
      "Epoch 1/1\n",
      "2240/2240 [==============================] - 0s 138us/step - loss: 0.0684\n",
      "Epoch: 57\n",
      "Epoch 1/1\n",
      "2240/2240 [==============================] - 0s 142us/step - loss: 0.0683\n",
      "Epoch: 58\n",
      "Epoch 1/1\n",
      "2240/2240 [==============================] - 0s 142us/step - loss: 0.0682\n",
      "Epoch: 59\n",
      "Epoch 1/1\n",
      "2240/2240 [==============================] - 0s 144us/step - loss: 0.0681\n",
      "Epoch: 60\n",
      "Epoch 1/1\n",
      "2240/2240 [==============================] - 0s 146us/step - loss: 0.0679\n",
      "Epoch: 61\n",
      "Epoch 1/1\n",
      "2240/2240 [==============================] - 0s 139us/step - loss: 0.0679\n",
      "Epoch: 62\n",
      "Epoch 1/1\n",
      "2240/2240 [==============================] - 0s 143us/step - loss: 0.0678\n",
      "Epoch: 63\n",
      "Epoch 1/1\n",
      "2240/2240 [==============================] - 0s 138us/step - loss: 0.0677\n",
      "Epoch: 64\n",
      "Epoch 1/1\n",
      "2240/2240 [==============================] - 0s 144us/step - loss: 0.0676\n",
      "Epoch: 65\n",
      "Epoch 1/1\n",
      "2240/2240 [==============================] - 0s 137us/step - loss: 0.0675\n",
      "Epoch: 66\n",
      "Epoch 1/1\n",
      "2240/2240 [==============================] - 0s 137us/step - loss: 0.0674\n",
      "Epoch: 67\n",
      "Epoch 1/1\n",
      "2240/2240 [==============================] - 0s 141us/step - loss: 0.0673\n",
      "Epoch: 68\n",
      "Epoch 1/1\n",
      "2240/2240 [==============================] - 0s 138us/step - loss: 0.0672\n",
      "Epoch: 69\n",
      "Epoch 1/1\n",
      "2240/2240 [==============================] - 0s 137us/step - loss: 0.0671\n",
      "Epoch: 70\n",
      "Epoch 1/1\n",
      "2240/2240 [==============================] - 0s 138us/step - loss: 0.0670\n",
      "Epoch: 71\n",
      "Epoch 1/1\n",
      "2240/2240 [==============================] - 0s 138us/step - loss: 0.0669\n",
      "Epoch: 72\n",
      "Epoch 1/1\n",
      "2240/2240 [==============================] - 0s 140us/step - loss: 0.0668\n",
      "Epoch: 73\n",
      "Epoch 1/1\n",
      "2240/2240 [==============================] - 0s 139us/step - loss: 0.0667\n",
      "Epoch: 74\n",
      "Epoch 1/1\n",
      "2240/2240 [==============================] - 0s 141us/step - loss: 0.0666\n",
      "Epoch: 75\n",
      "Epoch 1/1\n",
      "2240/2240 [==============================] - 0s 142us/step - loss: 0.0665\n",
      "Epoch: 76\n",
      "Epoch 1/1\n",
      "2240/2240 [==============================] - 0s 141us/step - loss: 0.0664\n",
      "Epoch: 77\n",
      "Epoch 1/1\n",
      "2240/2240 [==============================] - 0s 139us/step - loss: 0.0663\n",
      "Epoch: 78\n",
      "Epoch 1/1\n",
      "2240/2240 [==============================] - 0s 138us/step - loss: 0.0663\n",
      "Epoch: 79\n",
      "Epoch 1/1\n",
      "2240/2240 [==============================] - 0s 143us/step - loss: 0.0662\n",
      "Epoch: 80\n",
      "Epoch 1/1\n",
      "2240/2240 [==============================] - 0s 145us/step - loss: 0.0661\n",
      "Epoch: 81\n",
      "Epoch 1/1\n",
      "2240/2240 [==============================] - 0s 142us/step - loss: 0.0660\n",
      "Epoch: 82\n",
      "Epoch 1/1\n",
      "2240/2240 [==============================] - 0s 138us/step - loss: 0.0659\n",
      "Epoch: 83\n",
      "Epoch 1/1\n",
      "2240/2240 [==============================] - 0s 138us/step - loss: 0.0658\n",
      "Epoch: 84\n",
      "Epoch 1/1\n",
      "2240/2240 [==============================] - 0s 138us/step - loss: 0.0658\n",
      "Epoch: 85\n",
      "Epoch 1/1\n",
      "2240/2240 [==============================] - 0s 137us/step - loss: 0.0657\n",
      "Epoch: 86\n",
      "Epoch 1/1\n",
      "2240/2240 [==============================] - 0s 139us/step - loss: 0.0656\n",
      "Epoch: 87\n",
      "Epoch 1/1\n",
      "2240/2240 [==============================] - 0s 140us/step - loss: 0.0655\n",
      "Epoch: 88\n",
      "Epoch 1/1\n",
      "2240/2240 [==============================] - 0s 138us/step - loss: 0.0654\n",
      "Epoch: 89\n",
      "Epoch 1/1\n",
      "2240/2240 [==============================] - 0s 138us/step - loss: 0.0654\n",
      "Epoch: 90\n",
      "Epoch 1/1\n",
      "2240/2240 [==============================] - 0s 138us/step - loss: 0.0653\n",
      "Epoch: 91\n",
      "Epoch 1/1\n",
      "2240/2240 [==============================] - 0s 138us/step - loss: 0.0652\n",
      "Epoch: 92\n",
      "Epoch 1/1\n",
      "2240/2240 [==============================] - 0s 140us/step - loss: 0.0651\n",
      "Epoch: 93\n",
      "Epoch 1/1\n",
      "2240/2240 [==============================] - 0s 142us/step - loss: 0.0650\n",
      "Epoch: 94\n",
      "Epoch 1/1\n",
      "2240/2240 [==============================] - 0s 140us/step - loss: 0.0650\n",
      "Epoch: 95\n",
      "Epoch 1/1\n",
      "2240/2240 [==============================] - 0s 145us/step - loss: 0.0649\n",
      "Epoch: 96\n",
      "Epoch 1/1\n",
      "2240/2240 [==============================] - 0s 144us/step - loss: 0.0648\n",
      "Epoch: 97\n",
      "Epoch 1/1\n",
      "2240/2240 [==============================] - 0s 138us/step - loss: 0.0648\n",
      "Epoch: 98\n",
      "Epoch 1/1\n",
      "2240/2240 [==============================] - 0s 139us/step - loss: 0.0647\n",
      "Epoch: 99\n",
      "Epoch 1/1\n",
      "2240/2240 [==============================] - 0s 140us/step - loss: 0.0646\n",
      "Epoch: 100\n",
      "Epoch 1/1\n",
      "2240/2240 [==============================] - 0s 146us/step - loss: 0.0645\n",
      "Epoch: 101\n",
      "Epoch 1/1\n",
      "2240/2240 [==============================] - 0s 138us/step - loss: 0.0644\n",
      "Epoch: 102\n",
      "Epoch 1/1\n",
      "2240/2240 [==============================] - 0s 140us/step - loss: 0.0644\n",
      "Epoch: 103\n",
      "Epoch 1/1\n",
      "2240/2240 [==============================] - 0s 138us/step - loss: 0.0643\n",
      "Epoch: 104\n",
      "Epoch 1/1\n",
      "2240/2240 [==============================] - 0s 138us/step - loss: 0.0643\n",
      "Epoch: 105\n",
      "Epoch 1/1\n",
      "2240/2240 [==============================] - 0s 139us/step - loss: 0.0642\n",
      "Epoch: 106\n",
      "Epoch 1/1\n",
      "2240/2240 [==============================] - 0s 142us/step - loss: 0.0641\n",
      "Epoch: 107\n",
      "Epoch 1/1\n",
      "2240/2240 [==============================] - 0s 138us/step - loss: 0.0641\n",
      "Epoch: 108\n",
      "Epoch 1/1\n",
      "2240/2240 [==============================] - 0s 139us/step - loss: 0.0640\n",
      "Epoch: 109\n",
      "Epoch 1/1\n",
      "2240/2240 [==============================] - 0s 139us/step - loss: 0.0640\n",
      "Epoch: 110\n",
      "Epoch 1/1\n",
      "2240/2240 [==============================] - 0s 140us/step - loss: 0.0639\n",
      "Epoch: 111\n",
      "Epoch 1/1\n",
      "2240/2240 [==============================] - 0s 139us/step - loss: 0.0639\n",
      "Epoch: 112\n",
      "Epoch 1/1\n",
      "2240/2240 [==============================] - 0s 140us/step - loss: 0.0638\n",
      "Epoch: 113\n",
      "Epoch 1/1\n",
      "2240/2240 [==============================] - 0s 138us/step - loss: 0.0638\n",
      "Epoch: 114\n",
      "Epoch 1/1\n",
      "2240/2240 [==============================] - 0s 141us/step - loss: 0.0637\n",
      "Epoch: 115\n",
      "Epoch 1/1\n",
      "2240/2240 [==============================] - 0s 145us/step - loss: 0.0636\n",
      "Epoch: 116\n",
      "Epoch 1/1\n",
      "2240/2240 [==============================] - 0s 139us/step - loss: 0.0636\n",
      "Epoch: 117\n",
      "Epoch 1/1\n",
      "2240/2240 [==============================] - 0s 142us/step - loss: 0.0635\n",
      "Epoch: 118\n",
      "Epoch 1/1\n",
      "2240/2240 [==============================] - 0s 145us/step - loss: 0.0635\n",
      "Epoch: 119\n",
      "Epoch 1/1\n",
      "2240/2240 [==============================] - 0s 141us/step - loss: 0.0634\n"
     ]
    }
   ],
   "source": [
    "########## Model Training with Statefull\n",
    "# Fitting the training set\n",
    "\n",
    "#Statefull\n",
    "for i in range(epochs):\n",
    "    print(\"Epoch: \" + str(i))\n",
    "    #run through all data but the cell, hidden state are used for the next batch.\n",
    "    regressor_mae.fit(X_train, y_train, shuffle=False, epochs = 1, batch_size = batch_size)\n",
    "    #resets only the states but the weights, cell and hidden are kept.\n",
    "    regressor_mae.reset_states()\n",
    "    \n",
    "#Stateless\n",
    "#between the batches the cell and hidden states are lost.\n",
    "#regressor_mae.fit(X_train, y_train, shuffle=False, epochs = epochs, batch_size = batch_size)"
   ]
  },
  {
   "cell_type": "code",
   "execution_count": 17,
   "metadata": {},
   "outputs": [],
   "source": [
    "#save model\n",
    "import h5py\n",
    "regressor_mae.save(filepath=\"my_model_with_mae_30_ts.h5\")"
   ]
  },
  {
   "cell_type": "code",
   "execution_count": 18,
   "metadata": {},
   "outputs": [],
   "source": [
    "#load model\n",
    "import h5py\n",
    "regressor_mae = load_model(\"my_model_with_mae_30_ts.h5\")"
   ]
  },
  {
   "cell_type": "code",
   "execution_count": 19,
   "metadata": {},
   "outputs": [],
   "source": [
    "def get_test_length(dataset, batch_size):\n",
    "    test_length_values = []\n",
    "    for x in range(len(dataset) - 200, len(dataset) - timesteps*2): \n",
    "        modulo=(x-upper_train)%batch_size\n",
    "        if (modulo == 0):\n",
    "            test_length_values.append(x)\n",
    "            print(x)\n",
    "    return (max(test_length_values))"
   ]
  },
  {
   "cell_type": "code",
   "execution_count": 20,
   "metadata": {},
   "outputs": [
    {
     "name": "stdout",
     "output_type": "stream",
     "text": [
      "2364\n",
      "2428\n",
      "Test Length:  2428\n",
      "Testset Length:  128\n",
      "Upper Train, Upper Test, Length:  2300 2488 2501\n"
     ]
    }
   ],
   "source": [
    "test_length = get_test_length(df, batch_size)\n",
    "print(\"Test Length: \", test_length)\n",
    "\n",
    "upper_test = test_length + timesteps*2\n",
    "testset_length = test_length - upper_train\n",
    "print(\"Testset Length: \", testset_length)   \n",
    "print(\"Upper Train, Upper Test, Length: \", upper_train, upper_test, len(df))"
   ]
  },
  {
   "cell_type": "code",
   "execution_count": 21,
   "metadata": {},
   "outputs": [],
   "source": [
    "########## construct test set\n",
    "\n",
    "#subsetting\n",
    "df_test = df[upper_train:upper_test] \n",
    "test_set = df_test.iloc[:,1:2].values\n",
    "\n",
    "#scaling\n",
    "scaled_real_bcg_values_test = sc.fit_transform(np.float64(test_set))\n",
    "\n",
    "#creating input data\n",
    "X_test = []\n",
    "for i in range(timesteps, testset_length + timesteps):\n",
    "    X_test.append(scaled_real_bcg_values_test[i-timesteps:i, 0])\n",
    "X_test = np.array(X_test)\n",
    "\n",
    "\n",
    "#reshaping\n",
    "X_test = np.reshape(X_test, (X_test.shape[0], X_test.shape[1], 1))\n"
   ]
  },
  {
   "cell_type": "code",
   "execution_count": 22,
   "metadata": {},
   "outputs": [
    {
     "name": "stdout",
     "output_type": "stream",
     "text": [
      "X_test.shape:  (128, 30, 1)\n"
     ]
    }
   ],
   "source": [
    "print(\"X_test.shape: \", X_test.shape)"
   ]
  },
  {
   "cell_type": "code",
   "execution_count": 23,
   "metadata": {},
   "outputs": [
    {
     "name": "stdout",
     "output_type": "stream",
     "text": [
      "(128, 30, 1)\n",
      "(128, 30)\n",
      "(98, 1)\n"
     ]
    }
   ],
   "source": [
    "# prediction\n",
    "predicted_bcg_values_test_mae = regressor_mae.predict(X_test, batch_size=batch_size)\n",
    "regressor_mae.reset_states()\n",
    "\n",
    "print(predicted_bcg_values_test_mae.shape)\n",
    "\n",
    "# reshaping\n",
    "predicted_bcg_values_test_mae = np.reshape(predicted_bcg_values_test_mae, \n",
    "                                       (predicted_bcg_values_test_mae.shape[0], \n",
    "                                        predicted_bcg_values_test_mae.shape[1]))\n",
    "\n",
    "print(predicted_bcg_values_test_mae.shape)\n",
    "\n",
    "# inverse transform for forecasting\n",
    "predicted_bcg_values_test_mae = sc.inverse_transform(predicted_bcg_values_test_mae)\n",
    "\n",
    "# creating y_test data\n",
    "y_test = []\n",
    "for j in range(0, testset_length - timesteps):\n",
    "    y_test = np.append(y_test, predicted_bcg_values_test_mae[j, timesteps-1])\n",
    "\n",
    "# reshaping\n",
    "y_test = np.reshape(y_test, (y_test.shape[0], 1))\n",
    "\n",
    "print(y_test.shape)"
   ]
  },
  {
   "cell_type": "code",
   "execution_count": 24,
   "metadata": {},
   "outputs": [
    {
     "data": {
      "image/png": "[encoded data removed]",
      "text/plain": [
       "<Figure size 432x288 with 1 Axes>"
      ]
     },
     "metadata": {
      "needs_background": "light"
     },
     "output_type": "display_data"
    }
   ],
   "source": [
    "# Visualising the results\n",
    "plt.plot(test_set[timesteps:len(y_test)].astype(float), color = 'red', label = 'Actual EURO vs USD Prices')\n",
    "plt.plot(y_test[0:len(y_test) - timesteps].astype(float), color = 'blue', label = 'Predicted EURO vs USD Prices')\n",
    "plt.title('Forex EURO vs USD Prices Historical Data')\n",
    "plt.xlabel('Time (Days)')\n",
    "plt.ylabel('EURO vs USD Prices')\n",
    "plt.legend()\n",
    "plt.show()"
   ]
  },
  {
   "cell_type": "code",
   "execution_count": 29,
   "metadata": {},
   "outputs": [
    {
     "name": "stdout",
     "output_type": "stream",
     "text": [
      "RMSE (Root Mean Square Error): 0.00875689492891446\n"
     ]
    }
   ],
   "source": [
    "#MSE (mean sqared error)\n",
    "import math\n",
    "from sklearn.metrics import mean_squared_error\n",
    "rmse = math.sqrt(mean_squared_error(test_set[timesteps:len(y_test)], y_test[0:len(y_test) - timesteps]))\n",
    "print(r\"RMSE (Root Mean Square Error):\", rmse)"
   ]
  },
  {
   "cell_type": "code",
   "execution_count": 30,
   "metadata": {},
   "outputs": [
    {
     "name": "stdout",
     "output_type": "stream",
     "text": [
      "MAE (Mean Absolute Error) 0.007129522263583008\n"
     ]
    }
   ],
   "source": [
    "#MAE (mean absolut error)\n",
    "from sklearn.metrics import mean_absolute_error\n",
    "mae = mean_absolute_error(test_set[timesteps:len(y_test)], y_test[0:len(y_test) - timesteps])\n",
    "print(r\"MAE (Mean Absolute Error)\", mae)"
   ]
  },
  {
   "cell_type": "code",
   "execution_count": 31,
   "metadata": {},
   "outputs": [
    {
     "name": "stdout",
     "output_type": "stream",
     "text": [
      "Model: \"model_2\"\n",
      "_________________________________________________________________\n",
      "Layer (type)                 Output Shape              Param #   \n",
      "=================================================================\n",
      "input_2 (InputLayer)         (64, 30, 1)               0         \n",
      "_________________________________________________________________\n",
      "lstm_3 (LSTM)                (64, 30, 10)              480       \n",
      "_________________________________________________________________\n",
      "lstm_4 (LSTM)                (64, 30, 10)              840       \n",
      "_________________________________________________________________\n",
      "dense_2 (Dense)              (64, 30, 1)               11        \n",
      "=================================================================\n",
      "Total params: 1,331\n",
      "Trainable params: 1,331\n",
      "Non-trainable params: 0\n",
      "_________________________________________________________________\n"
     ]
    }
   ],
   "source": [
    "# Initialising the LSTM Model with MSE Loss Function\n",
    "\n",
    "inputs_1_mse = Input(batch_shape=(batch_size,timesteps,1))\n",
    "lstm_1_mse = LSTM(10, stateful=True, return_sequences=True)(inputs_1_mse)\n",
    "lstm_2_mse = LSTM(10, stateful=True, return_sequences=True)(lstm_1_mse)\n",
    "\n",
    "output_1_mse = Dense(units = 1)(lstm_2_mse)\n",
    "\n",
    "regressor_mse = Model(inputs=inputs_1_mse, outputs = output_1_mse)\n",
    "\n",
    "#mse -> mean squared error as loss function\n",
    "regressor_mse.compile(optimizer='adam', loss = 'mse')\n",
    "regressor_mse.summary()"
   ]
  },
  {
   "cell_type": "code",
   "execution_count": 32,
   "metadata": {},
   "outputs": [
    {
     "name": "stdout",
     "output_type": "stream",
     "text": [
      "Epoch: 0\n",
      "Epoch 1/1\n",
      "2240/2240 [==============================] - 1s 462us/step - loss: 0.2031\n",
      "Epoch: 1\n",
      "Epoch 1/1\n",
      "2240/2240 [==============================] - 0s 144us/step - loss: 0.0607\n",
      "Epoch: 2\n",
      "Epoch 1/1\n",
      "2240/2240 [==============================] - 0s 145us/step - loss: 0.0221\n",
      "Epoch: 3\n",
      "Epoch 1/1\n",
      "2240/2240 [==============================] - 0s 138us/step - loss: 0.0192\n",
      "Epoch: 4\n",
      "Epoch 1/1\n",
      "2240/2240 [==============================] - 0s 138us/step - loss: 0.0152\n",
      "Epoch: 5\n",
      "Epoch 1/1\n",
      "2240/2240 [==============================] - 0s 144us/step - loss: 0.0139\n",
      "Epoch: 6\n",
      "Epoch 1/1\n",
      "2240/2240 [==============================] - 0s 141us/step - loss: 0.0135\n",
      "Epoch: 7\n",
      "Epoch 1/1\n",
      "2240/2240 [==============================] - 0s 142us/step - loss: 0.0132\n",
      "Epoch: 8\n",
      "Epoch 1/1\n",
      "2240/2240 [==============================] - 0s 146us/step - loss: 0.0130\n",
      "Epoch: 9\n",
      "Epoch 1/1\n",
      "2240/2240 [==============================] - 0s 144us/step - loss: 0.0127\n",
      "Epoch: 10\n",
      "Epoch 1/1\n",
      "2240/2240 [==============================] - 0s 142us/step - loss: 0.0125\n",
      "Epoch: 11\n",
      "Epoch 1/1\n",
      "2240/2240 [==============================] - 0s 141us/step - loss: 0.0123\n",
      "Epoch: 12\n",
      "Epoch 1/1\n",
      "2240/2240 [==============================] - 0s 146us/step - loss: 0.0121\n",
      "Epoch: 13\n",
      "Epoch 1/1\n",
      "2240/2240 [==============================] - 0s 137us/step - loss: 0.0119\n",
      "Epoch: 14\n",
      "Epoch 1/1\n",
      "2240/2240 [==============================] - 0s 147us/step - loss: 0.0117\n",
      "Epoch: 15\n",
      "Epoch 1/1\n",
      "2240/2240 [==============================] - 0s 144us/step - loss: 0.0116\n",
      "Epoch: 16\n",
      "Epoch 1/1\n",
      "2240/2240 [==============================] - 0s 136us/step - loss: 0.0115\n",
      "Epoch: 17\n",
      "Epoch 1/1\n",
      "2240/2240 [==============================] - 0s 144us/step - loss: 0.0113\n",
      "Epoch: 18\n",
      "Epoch 1/1\n",
      "2240/2240 [==============================] - 0s 137us/step - loss: 0.0112\n",
      "Epoch: 19\n",
      "Epoch 1/1\n",
      "2240/2240 [==============================] - 0s 136us/step - loss: 0.0111\n",
      "Epoch: 20\n",
      "Epoch 1/1\n",
      "2240/2240 [==============================] - 0s 137us/step - loss: 0.0110\n",
      "Epoch: 21\n",
      "Epoch 1/1\n",
      "2240/2240 [==============================] - 0s 142us/step - loss: 0.0108\n",
      "Epoch: 22\n",
      "Epoch 1/1\n",
      "2240/2240 [==============================] - 0s 137us/step - loss: 0.0107\n",
      "Epoch: 23\n",
      "Epoch 1/1\n",
      "2240/2240 [==============================] - 0s 137us/step - loss: 0.0106\n",
      "Epoch: 24\n",
      "Epoch 1/1\n",
      "2240/2240 [==============================] - 0s 136us/step - loss: 0.0105\n",
      "Epoch: 25\n",
      "Epoch 1/1\n",
      "2240/2240 [==============================] - 0s 139us/step - loss: 0.0104\n",
      "Epoch: 26\n",
      "Epoch 1/1\n",
      "2240/2240 [==============================] - 0s 136us/step - loss: 0.0104\n",
      "Epoch: 27\n",
      "Epoch 1/1\n",
      "2240/2240 [==============================] - 0s 141us/step - loss: 0.0103\n",
      "Epoch: 28\n",
      "Epoch 1/1\n",
      "2240/2240 [==============================] - 0s 145us/step - loss: 0.0102\n",
      "Epoch: 29\n",
      "Epoch 1/1\n",
      "2240/2240 [==============================] - 0s 137us/step - loss: 0.0101\n",
      "Epoch: 30\n",
      "Epoch 1/1\n",
      "2240/2240 [==============================] - 0s 139us/step - loss: 0.0100\n",
      "Epoch: 31\n",
      "Epoch 1/1\n",
      "2240/2240 [==============================] - 0s 139us/step - loss: 0.0100\n",
      "Epoch: 32\n",
      "Epoch 1/1\n",
      "2240/2240 [==============================] - 0s 138us/step - loss: 0.0099\n",
      "Epoch: 33\n",
      "Epoch 1/1\n",
      "2240/2240 [==============================] - 0s 141us/step - loss: 0.0098\n",
      "Epoch: 34\n",
      "Epoch 1/1\n",
      "2240/2240 [==============================] - 0s 146us/step - loss: 0.0097\n",
      "Epoch: 35\n",
      "Epoch 1/1\n",
      "2240/2240 [==============================] - 0s 139us/step - loss: 0.0097\n",
      "Epoch: 36\n",
      "Epoch 1/1\n",
      "2240/2240 [==============================] - 0s 149us/step - loss: 0.0096 0s - loss: 0.0\n",
      "Epoch: 37\n",
      "Epoch 1/1\n",
      "2240/2240 [==============================] - 0s 142us/step - loss: 0.0095\n",
      "Epoch: 38\n",
      "Epoch 1/1\n",
      "2240/2240 [==============================] - 0s 138us/step - loss: 0.0095\n",
      "Epoch: 39\n",
      "Epoch 1/1\n",
      "2240/2240 [==============================] - 0s 139us/step - loss: 0.0094\n",
      "Epoch: 40\n",
      "Epoch 1/1\n",
      "2240/2240 [==============================] - 0s 141us/step - loss: 0.0094\n",
      "Epoch: 41\n",
      "Epoch 1/1\n",
      "2240/2240 [==============================] - 0s 139us/step - loss: 0.0093\n",
      "Epoch: 42\n",
      "Epoch 1/1\n",
      "2240/2240 [==============================] - 0s 139us/step - loss: 0.0093\n",
      "Epoch: 43\n",
      "Epoch 1/1\n",
      "2240/2240 [==============================] - 0s 138us/step - loss: 0.0092\n",
      "Epoch: 44\n",
      "Epoch 1/1\n",
      "2240/2240 [==============================] - 0s 138us/step - loss: 0.0092\n",
      "Epoch: 45\n",
      "Epoch 1/1\n",
      "2240/2240 [==============================] - 0s 138us/step - loss: 0.0091\n",
      "Epoch: 46\n",
      "Epoch 1/1\n",
      "2240/2240 [==============================] - 0s 140us/step - loss: 0.0091\n",
      "Epoch: 47\n",
      "Epoch 1/1\n",
      "2240/2240 [==============================] - 0s 139us/step - loss: 0.0090\n",
      "Epoch: 48\n",
      "Epoch 1/1\n",
      "2240/2240 [==============================] - 0s 137us/step - loss: 0.0090\n",
      "Epoch: 49\n",
      "Epoch 1/1\n",
      "2240/2240 [==============================] - 0s 145us/step - loss: 0.0089\n",
      "Epoch: 50\n",
      "Epoch 1/1\n",
      "2240/2240 [==============================] - 0s 138us/step - loss: 0.0089\n",
      "Epoch: 51\n",
      "Epoch 1/1\n",
      "2240/2240 [==============================] - 0s 138us/step - loss: 0.0088\n",
      "Epoch: 52\n",
      "Epoch 1/1\n",
      "2240/2240 [==============================] - 0s 142us/step - loss: 0.0088\n",
      "Epoch: 53\n",
      "Epoch 1/1\n",
      "2240/2240 [==============================] - 0s 140us/step - loss: 0.0088\n",
      "Epoch: 54\n",
      "Epoch 1/1\n",
      "2240/2240 [==============================] - 0s 138us/step - loss: 0.0087\n",
      "Epoch: 55\n",
      "Epoch 1/1\n",
      "2240/2240 [==============================] - 0s 139us/step - loss: 0.0087\n",
      "Epoch: 56\n",
      "Epoch 1/1\n",
      "2240/2240 [==============================] - 0s 138us/step - loss: 0.0086\n",
      "Epoch: 57\n",
      "Epoch 1/1\n",
      "2240/2240 [==============================] - 0s 140us/step - loss: 0.0086\n",
      "Epoch: 58\n",
      "Epoch 1/1\n",
      "2240/2240 [==============================] - 0s 140us/step - loss: 0.0086\n",
      "Epoch: 59\n",
      "Epoch 1/1\n",
      "2240/2240 [==============================] - 0s 141us/step - loss: 0.0085\n",
      "Epoch: 60\n",
      "Epoch 1/1\n",
      "2240/2240 [==============================] - 0s 140us/step - loss: 0.0085\n",
      "Epoch: 61\n",
      "Epoch 1/1\n",
      "2240/2240 [==============================] - 0s 138us/step - loss: 0.0085\n",
      "Epoch: 62\n",
      "Epoch 1/1\n",
      "2240/2240 [==============================] - 0s 147us/step - loss: 0.0084\n",
      "Epoch: 63\n",
      "Epoch 1/1\n",
      "2240/2240 [==============================] - 0s 141us/step - loss: 0.0084\n",
      "Epoch: 64\n",
      "Epoch 1/1\n",
      "2240/2240 [==============================] - 0s 143us/step - loss: 0.0084 0s - loss: 0.0\n",
      "Epoch: 65\n",
      "Epoch 1/1\n",
      "2240/2240 [==============================] - 0s 152us/step - loss: 0.0083 0s - loss: 0.0\n",
      "Epoch: 66\n",
      "Epoch 1/1\n",
      "2240/2240 [==============================] - 0s 139us/step - loss: 0.0083\n",
      "Epoch: 67\n",
      "Epoch 1/1\n",
      "2240/2240 [==============================] - 0s 145us/step - loss: 0.0083\n",
      "Epoch: 68\n",
      "Epoch 1/1\n",
      "2240/2240 [==============================] - 0s 141us/step - loss: 0.0082\n",
      "Epoch: 69\n",
      "Epoch 1/1\n",
      "2240/2240 [==============================] - 0s 141us/step - loss: 0.0082\n",
      "Epoch: 70\n",
      "Epoch 1/1\n",
      "2240/2240 [==============================] - 0s 147us/step - loss: 0.0082\n",
      "Epoch: 71\n",
      "Epoch 1/1\n",
      "2240/2240 [==============================] - 0s 142us/step - loss: 0.0081\n",
      "Epoch: 72\n",
      "Epoch 1/1\n",
      "2240/2240 [==============================] - 0s 139us/step - loss: 0.0081\n",
      "Epoch: 73\n",
      "Epoch 1/1\n",
      "2240/2240 [==============================] - 0s 138us/step - loss: 0.0081\n",
      "Epoch: 74\n",
      "Epoch 1/1\n",
      "2240/2240 [==============================] - 0s 138us/step - loss: 0.0080\n",
      "Epoch: 75\n",
      "Epoch 1/1\n",
      "2240/2240 [==============================] - 0s 139us/step - loss: 0.0080\n",
      "Epoch: 76\n",
      "Epoch 1/1\n",
      "2240/2240 [==============================] - 0s 140us/step - loss: 0.0080\n",
      "Epoch: 77\n",
      "Epoch 1/1\n",
      "2240/2240 [==============================] - 0s 141us/step - loss: 0.0079\n",
      "Epoch: 78\n",
      "Epoch 1/1\n",
      "2240/2240 [==============================] - 0s 138us/step - loss: 0.0079\n",
      "Epoch: 79\n",
      "Epoch 1/1\n",
      "2240/2240 [==============================] - 0s 139us/step - loss: 0.0079\n",
      "Epoch: 80\n",
      "Epoch 1/1\n",
      "2240/2240 [==============================] - 0s 139us/step - loss: 0.0078\n",
      "Epoch: 81\n",
      "Epoch 1/1\n",
      "2240/2240 [==============================] - 0s 144us/step - loss: 0.0078\n",
      "Epoch: 82\n",
      "Epoch 1/1\n",
      "2240/2240 [==============================] - 0s 139us/step - loss: 0.0078\n",
      "Epoch: 83\n",
      "Epoch 1/1\n",
      "2240/2240 [==============================] - 0s 139us/step - loss: 0.0077\n",
      "Epoch: 84\n",
      "Epoch 1/1\n",
      "2240/2240 [==============================] - 0s 142us/step - loss: 0.0077\n",
      "Epoch: 85\n",
      "Epoch 1/1\n",
      "2240/2240 [==============================] - 0s 139us/step - loss: 0.0077\n",
      "Epoch: 86\n",
      "Epoch 1/1\n",
      "2240/2240 [==============================] - 0s 139us/step - loss: 0.0076\n",
      "Epoch: 87\n",
      "Epoch 1/1\n",
      "2240/2240 [==============================] - 0s 138us/step - loss: 0.0076\n",
      "Epoch: 88\n",
      "Epoch 1/1\n",
      "2240/2240 [==============================] - 0s 139us/step - loss: 0.0076\n",
      "Epoch: 89\n",
      "Epoch 1/1\n",
      "2240/2240 [==============================] - 0s 141us/step - loss: 0.0075\n",
      "Epoch: 90\n",
      "Epoch 1/1\n",
      "2240/2240 [==============================] - 0s 142us/step - loss: 0.0075\n",
      "Epoch: 91\n",
      "Epoch 1/1\n",
      "2240/2240 [==============================] - 0s 140us/step - loss: 0.0075\n",
      "Epoch: 92\n",
      "Epoch 1/1\n",
      "2240/2240 [==============================] - 0s 138us/step - loss: 0.0074\n",
      "Epoch: 93\n",
      "Epoch 1/1\n",
      "2240/2240 [==============================] - 0s 139us/step - loss: 0.0074\n",
      "Epoch: 94\n",
      "Epoch 1/1\n",
      "2240/2240 [==============================] - 0s 139us/step - loss: 0.0074\n",
      "Epoch: 95\n",
      "Epoch 1/1\n",
      "2240/2240 [==============================] - 0s 140us/step - loss: 0.0073\n",
      "Epoch: 96\n",
      "Epoch 1/1\n",
      "2240/2240 [==============================] - 0s 143us/step - loss: 0.0073\n",
      "Epoch: 97\n",
      "Epoch 1/1\n",
      "2240/2240 [==============================] - 0s 140us/step - loss: 0.0073\n",
      "Epoch: 98\n",
      "Epoch 1/1\n",
      "2240/2240 [==============================] - 0s 140us/step - loss: 0.0072\n",
      "Epoch: 99\n",
      "Epoch 1/1\n",
      "2240/2240 [==============================] - 0s 140us/step - loss: 0.0072\n",
      "Epoch: 100\n",
      "Epoch 1/1\n",
      "2240/2240 [==============================] - 0s 141us/step - loss: 0.0071\n",
      "Epoch: 101\n",
      "Epoch 1/1\n",
      "2240/2240 [==============================] - 0s 140us/step - loss: 0.0071\n",
      "Epoch: 102\n",
      "Epoch 1/1\n",
      "2240/2240 [==============================] - 0s 143us/step - loss: 0.0070\n",
      "Epoch: 103\n",
      "Epoch 1/1\n",
      "2240/2240 [==============================] - 0s 149us/step - loss: 0.0070\n",
      "Epoch: 104\n",
      "Epoch 1/1\n",
      "2240/2240 [==============================] - 0s 140us/step - loss: 0.0069\n",
      "Epoch: 105\n",
      "Epoch 1/1\n",
      "2240/2240 [==============================] - 0s 144us/step - loss: 0.0069\n",
      "Epoch: 106\n",
      "Epoch 1/1\n",
      "2240/2240 [==============================] - 0s 151us/step - loss: 0.0068\n",
      "Epoch: 107\n",
      "Epoch 1/1\n",
      "2240/2240 [==============================] - 0s 149us/step - loss: 0.0066\n",
      "Epoch: 108\n",
      "Epoch 1/1\n",
      "2240/2240 [==============================] - 0s 146us/step - loss: 0.0064\n",
      "Epoch: 109\n",
      "Epoch 1/1\n",
      "2240/2240 [==============================] - 0s 147us/step - loss: 0.0064\n",
      "Epoch: 110\n",
      "Epoch 1/1\n",
      "2240/2240 [==============================] - 0s 142us/step - loss: 0.0064\n",
      "Epoch: 111\n",
      "Epoch 1/1\n",
      "2240/2240 [==============================] - 0s 148us/step - loss: 0.0064\n",
      "Epoch: 112\n",
      "Epoch 1/1\n",
      "2240/2240 [==============================] - 0s 142us/step - loss: 0.0065\n",
      "Epoch: 113\n",
      "Epoch 1/1\n",
      "2240/2240 [==============================] - 0s 144us/step - loss: 0.0066\n",
      "Epoch: 114\n",
      "Epoch 1/1\n",
      "2240/2240 [==============================] - 0s 140us/step - loss: 0.0067\n",
      "Epoch: 115\n",
      "Epoch 1/1\n",
      "2240/2240 [==============================] - 0s 144us/step - loss: 0.0072\n",
      "Epoch: 116\n",
      "Epoch 1/1\n",
      "2240/2240 [==============================] - 0s 142us/step - loss: 0.0088\n",
      "Epoch: 117\n",
      "Epoch 1/1\n",
      "2240/2240 [==============================] - 0s 140us/step - loss: 0.0088\n",
      "Epoch: 118\n",
      "Epoch 1/1\n",
      "2240/2240 [==============================] - 0s 142us/step - loss: 0.0074\n",
      "Epoch: 119\n",
      "Epoch 1/1\n",
      "2240/2240 [==============================] - 0s 141us/step - loss: 0.0075\n"
     ]
    }
   ],
   "source": [
    "epochs = 120\n",
    "for i in range(epochs):\n",
    "    print(\"Epoch: \" + str(i))\n",
    "    regressor_mse.fit(X_train, y_train, shuffle=False, epochs = 1, batch_size = batch_size)\n",
    "    regressor_mse.reset_states()"
   ]
  },
  {
   "cell_type": "code",
   "execution_count": 33,
   "metadata": {},
   "outputs": [],
   "source": [
    "import h5py\n",
    "regressor_mse.save(filepath=\"my_model_with_mse_30_ts.h5\")"
   ]
  },
  {
   "cell_type": "code",
   "execution_count": 34,
   "metadata": {},
   "outputs": [],
   "source": [
    "regressor_mse = load_model(\"my_model_with_mse_30_ts.h5\")"
   ]
  },
  {
   "cell_type": "code",
   "execution_count": 35,
   "metadata": {},
   "outputs": [],
   "source": [
    "predicted_bcg_values_test_mse = regressor_mse.predict(X_test, batch_size=batch_size)\n",
    "regressor_mse.reset_states()\n",
    "\n",
    "predicted_bcg_values_test_mse = np.reshape(predicted_bcg_values_test_mse, \n",
    "                                       (predicted_bcg_values_test_mse.shape[0], \n",
    "                                        predicted_bcg_values_test_mse.shape[1]))\n",
    "predicted_bcg_values_test_mse = sc.inverse_transform(predicted_bcg_values_test_mse)\n",
    "\n",
    "pred_mse = []\n",
    "\n",
    "for j in range(0, testset_length - timesteps):\n",
    "    pred_mse = np.append(pred_mse, predicted_bcg_values_test_mse[j, timesteps-1])\n",
    "\n",
    "pred_mse = np.reshape(pred_mse, (pred_mse.shape[0], 1))"
   ]
  },
  {
   "cell_type": "code",
   "execution_count": 36,
   "metadata": {},
   "outputs": [
    {
     "data": {
      "image/png": "[encoded data removed]",
      "text/plain": [
       "<Figure size 432x288 with 1 Axes>"
      ]
     },
     "metadata": {
      "needs_background": "light"
     },
     "output_type": "display_data"
    }
   ],
   "source": [
    "# Visualising the results\n",
    "plt.plot(test_set[timesteps:len(pred_mse)].astype(float), color = 'red', label = 'Actual EURO vs USD Prices')\n",
    "plt.plot(pred_mse[0:len(pred_mse) - timesteps], color = 'green', label = 'Predicted Prices with MSE')\n",
    "plt.plot(y_test[0:len(y_test) - timesteps], color = 'blue', label = 'Predicted Prices')\n",
    "plt.title('Forex EURO vs USD Prices Historical Data')\n",
    "plt.xlabel('Time (Days)')\n",
    "plt.ylabel('EURO vs USD Prices')\n",
    "plt.legend()\n",
    "plt.show()\n"
   ]
  },
  {
   "cell_type": "code",
   "execution_count": 37,
   "metadata": {},
   "outputs": [
    {
     "name": "stdout",
     "output_type": "stream",
     "text": [
      "Root Mean Square Error (RMSE): 0.00849523958153356\n"
     ]
    }
   ],
   "source": [
    "from sklearn.metrics import mean_squared_error\n",
    "rmse = math.sqrt(mean_squared_error(test_set[timesteps:len(pred_mse)], pred_mse[0:len(pred_mse) - timesteps]))\n",
    "print(r\"Root Mean Square Error (RMSE):\", rmse)"
   ]
  },
  {
   "cell_type": "code",
   "execution_count": 38,
   "metadata": {},
   "outputs": [
    {
     "name": "stdout",
     "output_type": "stream",
     "text": [
      "Mean:  1.1616183823529411\n"
     ]
    }
   ],
   "source": [
    "mean = np.mean(np.float64(test_set[timesteps:len(pred_mse)]))\n",
    "print(r\"Mean: \", mean)"
   ]
  },
  {
   "cell_type": "code",
   "execution_count": 39,
   "metadata": {},
   "outputs": [
    {
     "data": {
      "text/plain": [
       "0.7313279223703266"
      ]
     },
     "execution_count": 39,
     "metadata": {},
     "output_type": "execute_result"
    }
   ],
   "source": [
    "rmse/mean * 100"
   ]
  },
  {
   "cell_type": "code",
   "execution_count": 40,
   "metadata": {},
   "outputs": [
    {
     "name": "stdout",
     "output_type": "stream",
     "text": [
      "MAE (Mean Absolute Error) 0.007022356310451731\n"
     ]
    }
   ],
   "source": [
    "from sklearn.metrics import mean_absolute_error\n",
    "mae = mean_absolute_error(test_set[timesteps:len(pred_mse)], pred_mse[0:len(pred_mse) - timesteps])\n",
    "print(r\"MAE (Mean Absolute Error)\", mae)"
   ]
  },
  {
   "cell_type": "code",
   "execution_count": 41,
   "metadata": {},
   "outputs": [
    {
     "data": {
      "text/plain": [
       "0.6045321266548354"
      ]
     },
     "execution_count": 41,
     "metadata": {},
     "output_type": "execute_result"
    }
   ],
   "source": [
    "mae/mean * 100"
   ]
  },
  {
   "cell_type": "code",
   "execution_count": null,
   "metadata": {},
   "outputs": [],
   "source": []
  }
 ],
 "metadata": {
  "celltoolbar": "Attachments",
  "kernelspec": {
   "display_name": "Python 3",
   "language": "python",
   "name": "python3"
  },
  "language_info": {
   "codemirror_mode": {
    "name": "ipython",
    "version": 3
   },
   "file_extension": ".py",
   "mimetype": "text/x-python",
   "name": "python",
   "nbconvert_exporter": "python",
   "pygments_lexer": "ipython3",
   "version": "3.7.4"
  }
 },
 "nbformat": 4,
 "nbformat_minor": 4
}
